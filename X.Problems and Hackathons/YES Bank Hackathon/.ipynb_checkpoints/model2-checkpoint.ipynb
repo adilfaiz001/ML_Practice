{
 "cells": [
  {
   "cell_type": "markdown",
   "metadata": {},
   "source": [
    "<b><i>Yes Bank Data\\thon"
   ]
  },
  {
   "cell_type": "code",
   "execution_count": 1,
   "metadata": {},
   "outputs": [],
   "source": [
    "import pandas as pd\n",
    "import numpy as np \n",
    "\n",
    "import matplotlib.pyplot as plt # Visualization\n",
    "import seaborn as sns # For easier statistical plotting\n",
    "sns.set_style(\"whitegrid\")"
   ]
  },
  {
   "cell_type": "markdown",
   "metadata": {},
   "source": [
    "<b><i>Load training dataset into variable train"
   ]
  },
  {
   "cell_type": "code",
   "execution_count": 2,
   "metadata": {},
   "outputs": [],
   "source": [
    "train = pd.read_csv('Yes_Bank_Training.csv')"
   ]
  },
  {
   "cell_type": "markdown",
   "metadata": {},
   "source": [
    "<b><i>Change lables of 'yes' into 1 and 'no' into 0 <br>\n",
    "    yes --> 1<br>\n",
    "    no  --> 0"
   ]
  },
  {
   "cell_type": "code",
   "execution_count": 3,
   "metadata": {},
   "outputs": [],
   "source": [
    "def process_label(text):\n",
    "    if text == 'yes':\n",
    "        return 1\n",
    "    else:\n",
    "        return 0"
   ]
  },
  {
   "cell_type": "markdown",
   "metadata": {},
   "source": [
    "<b><i>Change categorical features into corresponding numeric values like : </i></b><br>\n",
    "<i>marital_status --> married, non-married, divorced\n",
    "    <br>change it into \n",
    "    <br>marital_status_married --> 1 for yes or 0 for no\n",
    "    <br>marital_status_non-married --> 1 for yes or 0 for no\n",
    "    <br>marital_status_divorced --> 1 for yes or 0 for no"
   ]
  },
  {
   "cell_type": "code",
   "execution_count": 4,
   "metadata": {},
   "outputs": [],
   "source": [
    "data = train\n",
    "cat_vars = ['job_description','marital_status','education_details','has_default','housing_status','previous_loan','phone_type','month_of_year','poutcome_of_campaign']\n",
    "for var in cat_vars:\n",
    "    cat_list = 'var' + '_' + var\n",
    "    cat_list = pd.get_dummies(train[var], prefix=var)\n",
    "    data1 = pd.concat([data,cat_list], axis=1)\n",
    "    data = data1\n",
    "\n",
    "cat_vars = ['job_description','marital_status','education_details','has_default','housing_status','previous_loan','phone_type','month_of_year','poutcome_of_campaign']\n",
    "data_vars = data.columns.values.tolist()\n",
    "to_keep = [i for i in data_vars if i not in cat_vars]"
   ]
  },
  {
   "cell_type": "code",
   "execution_count": 5,
   "metadata": {},
   "outputs": [],
   "source": [
    "Train = data[to_keep]"
   ]
  },
  {
   "cell_type": "code",
   "execution_count": 6,
   "metadata": {},
   "outputs": [
    {
     "data": {
      "text/plain": [
       "52"
      ]
     },
     "execution_count": 6,
     "metadata": {},
     "output_type": "execute_result"
    }
   ],
   "source": [
    "len(Train.columns)"
   ]
  },
  {
   "cell_type": "code",
   "execution_count": 7,
   "metadata": {},
   "outputs": [
    {
     "name": "stderr",
     "output_type": "stream",
     "text": [
      "D:\\Programs\\Anaconda2\\envs\\tensorflow-gpu\\lib\\site-packages\\ipykernel_launcher.py:1: SettingWithCopyWarning: \n",
      "A value is trying to be set on a copy of a slice from a DataFrame.\n",
      "Try using .loc[row_indexer,col_indexer] = value instead\n",
      "\n",
      "See the caveats in the documentation: http://pandas.pydata.org/pandas-docs/stable/indexing.html#indexing-view-versus-copy\n",
      "  \"\"\"Entry point for launching an IPython kernel.\n"
     ]
    }
   ],
   "source": [
    "Train['outcome'] = Train['outcome'].apply(lambda x : process_label(x))"
   ]
  },
  {
   "cell_type": "code",
   "execution_count": 8,
   "metadata": {},
   "outputs": [
    {
     "data": {
      "text/html": [
       "<div>\n",
       "<style scoped>\n",
       "    .dataframe tbody tr th:only-of-type {\n",
       "        vertical-align: middle;\n",
       "    }\n",
       "\n",
       "    .dataframe tbody tr th {\n",
       "        vertical-align: top;\n",
       "    }\n",
       "\n",
       "    .dataframe thead th {\n",
       "        text-align: right;\n",
       "    }\n",
       "</style>\n",
       "<table border=\"1\" class=\"dataframe\">\n",
       "  <thead>\n",
       "    <tr style=\"text-align: right;\">\n",
       "      <th></th>\n",
       "      <th>serial_number</th>\n",
       "      <th>age_in_years</th>\n",
       "      <th>balance_in_account</th>\n",
       "      <th>date</th>\n",
       "      <th>call_duration</th>\n",
       "      <th>campaign_contacts</th>\n",
       "      <th>days_passed</th>\n",
       "      <th>previous_contact</th>\n",
       "      <th>outcome</th>\n",
       "      <th>job_description_admin.</th>\n",
       "      <th>...</th>\n",
       "      <th>month_of_year_jul</th>\n",
       "      <th>month_of_year_jun</th>\n",
       "      <th>month_of_year_mar</th>\n",
       "      <th>month_of_year_may</th>\n",
       "      <th>month_of_year_nov</th>\n",
       "      <th>month_of_year_oct</th>\n",
       "      <th>poutcome_of_campaign_failure</th>\n",
       "      <th>poutcome_of_campaign_other</th>\n",
       "      <th>poutcome_of_campaign_success</th>\n",
       "      <th>poutcome_of_campaign_unknown</th>\n",
       "    </tr>\n",
       "  </thead>\n",
       "  <tbody>\n",
       "    <tr>\n",
       "      <th>0</th>\n",
       "      <td>1</td>\n",
       "      <td>58</td>\n",
       "      <td>2143</td>\n",
       "      <td>5</td>\n",
       "      <td>261</td>\n",
       "      <td>1</td>\n",
       "      <td>-1</td>\n",
       "      <td>0</td>\n",
       "      <td>0</td>\n",
       "      <td>0</td>\n",
       "      <td>...</td>\n",
       "      <td>0</td>\n",
       "      <td>0</td>\n",
       "      <td>0</td>\n",
       "      <td>1</td>\n",
       "      <td>0</td>\n",
       "      <td>0</td>\n",
       "      <td>0</td>\n",
       "      <td>0</td>\n",
       "      <td>0</td>\n",
       "      <td>1</td>\n",
       "    </tr>\n",
       "    <tr>\n",
       "      <th>1</th>\n",
       "      <td>2</td>\n",
       "      <td>44</td>\n",
       "      <td>29</td>\n",
       "      <td>5</td>\n",
       "      <td>151</td>\n",
       "      <td>1</td>\n",
       "      <td>-1</td>\n",
       "      <td>0</td>\n",
       "      <td>0</td>\n",
       "      <td>0</td>\n",
       "      <td>...</td>\n",
       "      <td>0</td>\n",
       "      <td>0</td>\n",
       "      <td>0</td>\n",
       "      <td>1</td>\n",
       "      <td>0</td>\n",
       "      <td>0</td>\n",
       "      <td>0</td>\n",
       "      <td>0</td>\n",
       "      <td>0</td>\n",
       "      <td>1</td>\n",
       "    </tr>\n",
       "    <tr>\n",
       "      <th>2</th>\n",
       "      <td>3</td>\n",
       "      <td>33</td>\n",
       "      <td>2</td>\n",
       "      <td>5</td>\n",
       "      <td>76</td>\n",
       "      <td>1</td>\n",
       "      <td>-1</td>\n",
       "      <td>0</td>\n",
       "      <td>0</td>\n",
       "      <td>0</td>\n",
       "      <td>...</td>\n",
       "      <td>0</td>\n",
       "      <td>0</td>\n",
       "      <td>0</td>\n",
       "      <td>1</td>\n",
       "      <td>0</td>\n",
       "      <td>0</td>\n",
       "      <td>0</td>\n",
       "      <td>0</td>\n",
       "      <td>0</td>\n",
       "      <td>1</td>\n",
       "    </tr>\n",
       "    <tr>\n",
       "      <th>3</th>\n",
       "      <td>4</td>\n",
       "      <td>47</td>\n",
       "      <td>1506</td>\n",
       "      <td>5</td>\n",
       "      <td>92</td>\n",
       "      <td>1</td>\n",
       "      <td>-1</td>\n",
       "      <td>0</td>\n",
       "      <td>0</td>\n",
       "      <td>0</td>\n",
       "      <td>...</td>\n",
       "      <td>0</td>\n",
       "      <td>0</td>\n",
       "      <td>0</td>\n",
       "      <td>1</td>\n",
       "      <td>0</td>\n",
       "      <td>0</td>\n",
       "      <td>0</td>\n",
       "      <td>0</td>\n",
       "      <td>0</td>\n",
       "      <td>1</td>\n",
       "    </tr>\n",
       "    <tr>\n",
       "      <th>4</th>\n",
       "      <td>5</td>\n",
       "      <td>33</td>\n",
       "      <td>1</td>\n",
       "      <td>5</td>\n",
       "      <td>198</td>\n",
       "      <td>1</td>\n",
       "      <td>-1</td>\n",
       "      <td>0</td>\n",
       "      <td>0</td>\n",
       "      <td>0</td>\n",
       "      <td>...</td>\n",
       "      <td>0</td>\n",
       "      <td>0</td>\n",
       "      <td>0</td>\n",
       "      <td>1</td>\n",
       "      <td>0</td>\n",
       "      <td>0</td>\n",
       "      <td>0</td>\n",
       "      <td>0</td>\n",
       "      <td>0</td>\n",
       "      <td>1</td>\n",
       "    </tr>\n",
       "  </tbody>\n",
       "</table>\n",
       "<p>5 rows × 52 columns</p>\n",
       "</div>"
      ],
      "text/plain": [
       "   serial_number  age_in_years  balance_in_account  date  call_duration  \\\n",
       "0              1            58                2143     5            261   \n",
       "1              2            44                  29     5            151   \n",
       "2              3            33                   2     5             76   \n",
       "3              4            47                1506     5             92   \n",
       "4              5            33                   1     5            198   \n",
       "\n",
       "   campaign_contacts  days_passed  previous_contact  outcome  \\\n",
       "0                  1           -1                 0        0   \n",
       "1                  1           -1                 0        0   \n",
       "2                  1           -1                 0        0   \n",
       "3                  1           -1                 0        0   \n",
       "4                  1           -1                 0        0   \n",
       "\n",
       "   job_description_admin.              ...               month_of_year_jul  \\\n",
       "0                       0              ...                               0   \n",
       "1                       0              ...                               0   \n",
       "2                       0              ...                               0   \n",
       "3                       0              ...                               0   \n",
       "4                       0              ...                               0   \n",
       "\n",
       "   month_of_year_jun  month_of_year_mar  month_of_year_may  month_of_year_nov  \\\n",
       "0                  0                  0                  1                  0   \n",
       "1                  0                  0                  1                  0   \n",
       "2                  0                  0                  1                  0   \n",
       "3                  0                  0                  1                  0   \n",
       "4                  0                  0                  1                  0   \n",
       "\n",
       "   month_of_year_oct  poutcome_of_campaign_failure  \\\n",
       "0                  0                             0   \n",
       "1                  0                             0   \n",
       "2                  0                             0   \n",
       "3                  0                             0   \n",
       "4                  0                             0   \n",
       "\n",
       "   poutcome_of_campaign_other  poutcome_of_campaign_success  \\\n",
       "0                           0                             0   \n",
       "1                           0                             0   \n",
       "2                           0                             0   \n",
       "3                           0                             0   \n",
       "4                           0                             0   \n",
       "\n",
       "   poutcome_of_campaign_unknown  \n",
       "0                             1  \n",
       "1                             1  \n",
       "2                             1  \n",
       "3                             1  \n",
       "4                             1  \n",
       "\n",
       "[5 rows x 52 columns]"
      ]
     },
     "execution_count": 8,
     "metadata": {},
     "output_type": "execute_result"
    }
   ],
   "source": [
    "Train.head()"
   ]
  },
  {
   "cell_type": "code",
   "execution_count": 9,
   "metadata": {},
   "outputs": [
    {
     "name": "stdout",
     "output_type": "stream",
     "text": [
      "<class 'pandas.core.frame.DataFrame'>\n",
      "RangeIndex: 31649 entries, 0 to 31648\n",
      "Data columns (total 52 columns):\n",
      "serial_number                    31649 non-null int64\n",
      "age_in_years                     31649 non-null int64\n",
      "balance_in_account               31649 non-null int64\n",
      "date                             31649 non-null int64\n",
      "call_duration                    31649 non-null int64\n",
      "campaign_contacts                31649 non-null int64\n",
      "days_passed                      31649 non-null int64\n",
      "previous_contact                 31649 non-null int64\n",
      "outcome                          31649 non-null int64\n",
      "job_description_admin.           31649 non-null uint8\n",
      "job_description_blue-collar      31649 non-null uint8\n",
      "job_description_entrepreneur     31649 non-null uint8\n",
      "job_description_housemaid        31649 non-null uint8\n",
      "job_description_management       31649 non-null uint8\n",
      "job_description_retired          31649 non-null uint8\n",
      "job_description_self-employed    31649 non-null uint8\n",
      "job_description_services         31649 non-null uint8\n",
      "job_description_student          31649 non-null uint8\n",
      "job_description_technician       31649 non-null uint8\n",
      "job_description_unemployed       31649 non-null uint8\n",
      "job_description_unknown          31649 non-null uint8\n",
      "marital_status_divorced          31649 non-null uint8\n",
      "marital_status_married           31649 non-null uint8\n",
      "marital_status_single            31649 non-null uint8\n",
      "education_details_primary        31649 non-null uint8\n",
      "education_details_secondary      31649 non-null uint8\n",
      "education_details_tertiary       31649 non-null uint8\n",
      "education_details_unknown        31649 non-null uint8\n",
      "has_default_no                   31649 non-null uint8\n",
      "has_default_yes                  31649 non-null uint8\n",
      "housing_status_no                31649 non-null uint8\n",
      "housing_status_yes               31649 non-null uint8\n",
      "previous_loan_no                 31649 non-null uint8\n",
      "previous_loan_yes                31649 non-null uint8\n",
      "phone_type_cellular              31649 non-null uint8\n",
      "phone_type_telephone             31649 non-null uint8\n",
      "phone_type_unknown               31649 non-null uint8\n",
      "month_of_year_apr                31649 non-null uint8\n",
      "month_of_year_aug                31649 non-null uint8\n",
      "month_of_year_dec                31649 non-null uint8\n",
      "month_of_year_feb                31649 non-null uint8\n",
      "month_of_year_jan                31649 non-null uint8\n",
      "month_of_year_jul                31649 non-null uint8\n",
      "month_of_year_jun                31649 non-null uint8\n",
      "month_of_year_mar                31649 non-null uint8\n",
      "month_of_year_may                31649 non-null uint8\n",
      "month_of_year_nov                31649 non-null uint8\n",
      "month_of_year_oct                31649 non-null uint8\n",
      "poutcome_of_campaign_failure     31649 non-null uint8\n",
      "poutcome_of_campaign_other       31649 non-null uint8\n",
      "poutcome_of_campaign_success     31649 non-null uint8\n",
      "poutcome_of_campaign_unknown     31649 non-null uint8\n",
      "dtypes: int64(9), uint8(43)\n",
      "memory usage: 3.5 MB\n"
     ]
    }
   ],
   "source": [
    "Train.info()"
   ]
  },
  {
   "cell_type": "markdown",
   "metadata": {},
   "source": [
    "<b><i>Sampling training dataset as it not balanced between two output values</i></b><br>\n",
    "<i>Using imblearn library to get sampled dataset from given training dataset</i>"
   ]
  },
  {
   "cell_type": "code",
   "execution_count": 10,
   "metadata": {},
   "outputs": [
    {
     "name": "stderr",
     "output_type": "stream",
     "text": [
      "D:\\Programs\\Anaconda2\\envs\\tensorflow-gpu\\lib\\site-packages\\sklearn\\utils\\validation.py:752: DataConversionWarning: A column-vector y was passed when a 1d array was expected. Please change the shape of y to (n_samples, ), for example using ravel().\n",
      "  y = column_or_1d(y, warn=True)\n"
     ]
    }
   ],
   "source": [
    "from imblearn.over_sampling import SMOTE\n",
    "X = Train.loc[:, Train.columns != 'outcome']\n",
    "Y = Train.loc[:, Train.columns == 'outcome']\n",
    "\n",
    "os = SMOTE(random_state=0)\n",
    "columns = X.columns\n",
    "\n",
    "os_data_X, os_data_Y = os.fit_sample(X,Y)\n",
    "os_data_X = pd.DataFrame(data=os_data_X,columns=columns)\n",
    "os_data_Y = pd.DataFrame(data=os_data_Y,columns=['outcome'])"
   ]
  },
  {
   "cell_type": "code",
   "execution_count": null,
   "metadata": {},
   "outputs": [],
   "source": [
    "os_data_Y['outcome'].count_values()"
   ]
  },
  {
   "cell_type": "code",
   "execution_count": 11,
   "metadata": {},
   "outputs": [],
   "source": [
    "os_data_X = os_data_X.loc[:, os_data_X.columns != 'serial_number']"
   ]
  },
  {
   "cell_type": "code",
   "execution_count": 13,
   "metadata": {},
   "outputs": [],
   "source": [
    "X = os_data_X\n",
    "y = os_data_Y"
   ]
  },
  {
   "cell_type": "code",
   "execution_count": 14,
   "metadata": {},
   "outputs": [],
   "source": [
    "# X.to_csv('X.csv',encoding='utf-8')\n",
    "# y.to_csv('y.csv',encoding='utf-8')"
   ]
  },
  {
   "cell_type": "markdown",
   "metadata": {},
   "source": [
    "<i>Analyzing statistical model of dataset and model to get inference"
   ]
  },
  {
   "cell_type": "code",
   "execution_count": 15,
   "metadata": {},
   "outputs": [
    {
     "name": "stdout",
     "output_type": "stream",
     "text": [
      "Optimization terminated successfully.\n",
      "         Current function value: 0.108934\n",
      "         Iterations 10\n",
      "                                Results: Logit\n",
      "==============================================================================\n",
      "Model:                   Logit                Pseudo R-squared:     0.843     \n",
      "Dependent Variable:      outcome              AIC:                  13088.8693\n",
      "Date:                    2018-12-10 04:47     BIC:                  13538.6550\n",
      "No. Observations:        59618                Log-Likelihood:       -6494.4   \n",
      "Df Model:                49                   LL-Null:              -41324.   \n",
      "Df Residuals:            59568                LLR p-value:          0.0000    \n",
      "Converged:               1.0000               Scale:                1.0000    \n",
      "No. Iterations:          10.0000                                              \n",
      "------------------------------------------------------------------------------\n",
      "                               Coef.  Std.Err.    z     P>|z|   [0.025  0.975]\n",
      "------------------------------------------------------------------------------\n",
      "age_in_years                   0.0411   0.0029  14.2760 0.0000  0.0354  0.0467\n",
      "balance_in_account             0.0000   0.0000   2.3986 0.0165  0.0000  0.0000\n",
      "date                           0.0386   0.0035  11.1795 0.0000  0.0318  0.0454\n",
      "call_duration                  0.0061   0.0001  69.1561 0.0000  0.0060  0.0063\n",
      "campaign_contacts             -0.0491   0.0100  -4.9002 0.0000 -0.0687 -0.0294\n",
      "days_passed                    0.0211   0.0017  12.0608 0.0000  0.0177  0.0245\n",
      "previous_contact              -0.0002   0.0083  -0.0209 0.9833 -0.0164  0.0160\n",
      "job_description_admin.        -4.8964   0.1419 -34.4960 0.0000 -5.1746 -4.6182\n",
      "job_description_blue-collar   -4.4987   0.1301 -34.5835 0.0000 -4.7536 -4.2437\n",
      "job_description_entrepreneur  -5.3770   0.1990 -27.0244 0.0000 -5.7670 -4.9870\n",
      "job_description_housemaid     -6.5076   0.2692 -24.1777 0.0000 -7.0351 -5.9800\n",
      "job_description_management    -4.7208   0.1330 -35.4993 0.0000 -4.9815 -4.4602\n",
      "job_description_retired       -5.4682   0.1814 -30.1505 0.0000 -5.8236 -5.1127\n",
      "job_description_self-employed -5.6986   0.1988 -28.6674 0.0000 -6.0882 -5.3090\n",
      "job_description_services      -5.2120   0.1528 -34.0994 0.0000 -5.5115 -4.9124\n",
      "job_description_student       -5.0732   0.2838 -17.8772 0.0000 -5.6294 -4.5170\n",
      "job_description_technician    -4.9693   0.1316 -37.7646 0.0000 -5.2272 -4.7114\n",
      "job_description_unemployed    -5.9661   0.2044 -29.1922 0.0000 -6.3667 -5.5655\n",
      "job_description_unknown       -4.3606   0.3146 -13.8608 0.0000 -4.9772 -3.7440\n",
      "marital_status_divorced       -3.8782   0.1440 -26.9310 0.0000 -4.1604 -3.5959\n",
      "marital_status_married        -3.9095   0.1260 -31.0193 0.0000 -4.1566 -3.6625\n",
      "marital_status_single         -3.2554   0.1273 -25.5634 0.0000 -3.5050 -3.0058\n",
      "education_details_primary     -3.0866   0.1400 -22.0467 0.0000 -3.3610 -2.8122\n",
      "education_details_secondary   -2.4002   0.1174 -20.4529 0.0000 -2.6302 -2.1702\n",
      "education_details_tertiary    -2.2849   0.1249 -18.2872 0.0000 -2.5298 -2.0400\n",
      "education_details_unknown     -3.5066   0.2036 -17.2266 0.0000 -3.9056 -3.1077\n",
      "has_default_no                 3.5540   0.1659  21.4174 0.0000  3.2288  3.8792\n",
      "has_default_yes                3.5393   0.2523  14.0275 0.0000  3.0448  4.0339\n",
      "housing_status_no             -2.8024   0.1414 -19.8155 0.0000 -3.0795 -2.5252\n",
      "housing_status_yes            -3.0489   0.1428 -21.3451 0.0000 -3.3289 -2.7690\n",
      "previous_loan_no              -0.4342   0.1244  -3.4896 0.0005 -0.6781 -0.1903\n",
      "previous_loan_yes             -1.1574   0.1437  -8.0568 0.0000 -1.4390 -0.8759\n",
      "phone_type_cellular            1.6691   0.1509  11.0640 0.0000  1.3735  1.9648\n",
      "phone_type_telephone           1.2666   0.1906   6.6460 0.0000  0.8931  1.6401\n",
      "phone_type_unknown             2.7709   0.2508  11.0486 0.0000  2.2794  3.2625\n",
      "month_of_year_apr             -0.2169   0.3185  -0.6808 0.4960 -0.8411  0.4074\n",
      "month_of_year_aug             -0.4565   0.1671  -2.7313 0.0063 -0.7840 -0.1289\n",
      "month_of_year_dec             -0.1145   1.1853  -0.0966 0.9230 -2.4377  2.2086\n",
      "month_of_year_feb              1.2878   0.1653   7.7918 0.0000  0.9639  1.6117\n",
      "month_of_year_jan             -2.3872   0.2435  -9.8022 0.0000 -2.8646 -1.9099\n",
      "month_of_year_jul             -0.8292   0.1650  -5.0251 0.0000 -1.1526 -0.5058\n",
      "month_of_year_jun             -1.9843   0.2524  -7.8619 0.0000 -2.4790 -1.4896\n",
      "month_of_year_mar              3.3936   0.2004  16.9300 0.0000  3.0007  3.7865\n",
      "month_of_year_may             -2.5727   0.2555 -10.0698 0.0000 -3.0734 -2.0720\n",
      "month_of_year_nov             -0.5423   0.1672  -3.2435 0.0012 -0.8700 -0.2146\n",
      "month_of_year_oct              3.6337   0.3090  11.7584 0.0000  3.0280  4.2393\n",
      "poutcome_of_campaign_failure  -2.7970   0.3830  -7.3030 0.0000 -3.5477 -2.0463\n",
      "poutcome_of_campaign_other    -2.4067   0.3974  -6.0562 0.0000 -3.1856 -1.6278\n",
      "poutcome_of_campaign_success  -0.3461   0.5085  -0.6806 0.4961 -1.3428  0.6506\n",
      "poutcome_of_campaign_unknown   3.0074   0.1700  17.6899 0.0000  2.6742  3.3406\n",
      "==============================================================================\n",
      "\n"
     ]
    }
   ],
   "source": [
    "import statsmodels.api as sm\n",
    "logit_model=sm.Logit(y,X)\n",
    "result=logit_model.fit()\n",
    "print(result.summary2())"
   ]
  },
  {
   "cell_type": "markdown",
   "metadata": {},
   "source": [
    "<b><i>Spliting X,y into training and validating dataset from original dataset and fitting data into logistic regression model"
   ]
  },
  {
   "cell_type": "code",
   "execution_count": 17,
   "metadata": {},
   "outputs": [
    {
     "name": "stderr",
     "output_type": "stream",
     "text": [
      "D:\\Programs\\Anaconda2\\envs\\tensorflow-gpu\\lib\\site-packages\\sklearn\\linear_model\\logistic.py:432: FutureWarning: Default solver will be changed to 'lbfgs' in 0.22. Specify a solver to silence this warning.\n",
      "  FutureWarning)\n",
      "D:\\Programs\\Anaconda2\\envs\\tensorflow-gpu\\lib\\site-packages\\sklearn\\utils\\validation.py:752: DataConversionWarning: A column-vector y was passed when a 1d array was expected. Please change the shape of y to (n_samples, ), for example using ravel().\n",
      "  y = column_or_1d(y, warn=True)\n"
     ]
    },
    {
     "data": {
      "text/plain": [
       "LogisticRegression(C=1.0, class_weight=None, dual=False, fit_intercept=True,\n",
       "          intercept_scaling=1, max_iter=100, multi_class='warn',\n",
       "          n_jobs=None, penalty='l2', random_state=None, solver='warn',\n",
       "          tol=0.0001, verbose=0, warm_start=False)"
      ]
     },
     "execution_count": 17,
     "metadata": {},
     "output_type": "execute_result"
    }
   ],
   "source": [
    "from sklearn.linear_model import LogisticRegression\n",
    "from sklearn.model_selection import train_test_split\n",
    "from sklearn import metrics\n",
    "X_train, X_val, y_train, y_val = train_test_split(X, y, test_size=0.1, random_state=1)\n",
    "logreg = LogisticRegression()\n",
    "logreg.fit(X_train, y_train)"
   ]
  },
  {
   "cell_type": "markdown",
   "metadata": {},
   "source": [
    "<b><i>Prediction on validation dataset"
   ]
  },
  {
   "cell_type": "code",
   "execution_count": null,
   "metadata": {},
   "outputs": [],
   "source": [
    "y_pred = logreg.predict(X_val)\n",
    "print('Accuracy of logistic regression classifier on test set: {:.2f}'.format(logreg.score(X_val, y_val)))"
   ]
  },
  {
   "cell_type": "markdown",
   "metadata": {},
   "source": [
    "<b><i>Loading test dataset and converting it into trained model form dataset to get prediction "
   ]
  },
  {
   "cell_type": "code",
   "execution_count": 19,
   "metadata": {},
   "outputs": [],
   "source": [
    "test = pd.read_csv('Yes_Bank_Test.csv',encoding='utf-8')"
   ]
  },
  {
   "cell_type": "code",
   "execution_count": 20,
   "metadata": {},
   "outputs": [],
   "source": [
    "data = test\n",
    "cat_vars = ['job_description','marital_status','education_details','has_default','housing_status','previous_loan','phone_type','month_of_year','poutcome_of_campaign']\n",
    "for var in cat_vars:\n",
    "    cat_list = 'var' + '_' + var\n",
    "    cat_list = pd.get_dummies(test[var], prefix=var)\n",
    "    data1 = pd.concat([data,cat_list], axis=1)\n",
    "    data = data1\n",
    "\n",
    "cat_vars = ['job_description','marital_status','education_details','has_default','housing_status','previous_loan','phone_type','month_of_year','poutcome_of_campaign']\n",
    "data_vars = data.columns.values.tolist()\n",
    "to_keep = [i for i in data_vars if i not in cat_vars]"
   ]
  },
  {
   "cell_type": "code",
   "execution_count": 21,
   "metadata": {},
   "outputs": [],
   "source": [
    "Test = data[to_keep]"
   ]
  },
  {
   "cell_type": "code",
   "execution_count": 22,
   "metadata": {},
   "outputs": [],
   "source": [
    "Test = Test.loc[:, (Test.columns != 'serial_number') & (Test.columns != 'month_of_year_sep')]"
   ]
  },
  {
   "cell_type": "code",
   "execution_count": 23,
   "metadata": {},
   "outputs": [
    {
     "data": {
      "text/plain": [
       "50"
      ]
     },
     "execution_count": 23,
     "metadata": {},
     "output_type": "execute_result"
    }
   ],
   "source": [
    "len(X.columns)"
   ]
  },
  {
   "cell_type": "code",
   "execution_count": 24,
   "metadata": {},
   "outputs": [
    {
     "data": {
      "text/plain": [
       "50"
      ]
     },
     "execution_count": 24,
     "metadata": {},
     "output_type": "execute_result"
    }
   ],
   "source": [
    "len(Test.columns)"
   ]
  },
  {
   "cell_type": "markdown",
   "metadata": {},
   "source": [
    "<b><i>Test dataset prediction from model."
   ]
  },
  {
   "cell_type": "code",
   "execution_count": 25,
   "metadata": {},
   "outputs": [],
   "source": [
    "y_pred_test = logreg.predict(Test)"
   ]
  },
  {
   "cell_type": "code",
   "execution_count": 26,
   "metadata": {},
   "outputs": [],
   "source": [
    "y_test_Sn = np.array([x for x in range(1,len(test)+1)])"
   ]
  },
  {
   "cell_type": "code",
   "execution_count": 27,
   "metadata": {},
   "outputs": [],
   "source": [
    "from collections import OrderedDict \n",
    "SubDict = OrderedDict()\n",
    "SubDict['serial_number'] = y_test_Sn\n",
    "SubDict['outcome'] = y_pred_test"
   ]
  },
  {
   "cell_type": "code",
   "execution_count": 28,
   "metadata": {},
   "outputs": [],
   "source": [
    "test_submit = pd.DataFrame(SubDict)"
   ]
  },
  {
   "cell_type": "code",
   "execution_count": 29,
   "metadata": {},
   "outputs": [
    {
     "data": {
      "text/plain": [
       "0    12344\n",
       "1     1218\n",
       "Name: outcome, dtype: int64"
      ]
     },
     "execution_count": 29,
     "metadata": {},
     "output_type": "execute_result"
    }
   ],
   "source": [
    "test_submit['outcome'].value_counts()"
   ]
  },
  {
   "cell_type": "code",
   "execution_count": 30,
   "metadata": {},
   "outputs": [],
   "source": [
    "def deprocess_label(text):\n",
    "    if text == 1:\n",
    "        return 'yes'\n",
    "    else:\n",
    "        return 'no'"
   ]
  },
  {
   "cell_type": "code",
   "execution_count": null,
   "metadata": {},
   "outputs": [],
   "source": [
    "test_submit['outcome'] = test_submit['outcome'].apply(lambda x : deprocess_label(x))"
   ]
  },
  {
   "cell_type": "code",
   "execution_count": null,
   "metadata": {},
   "outputs": [],
   "source": [
    "test_submit.to_csv('Test_submit.csv',encoding='utf-8',index=False)"
   ]
  },
  {
   "cell_type": "markdown",
   "metadata": {},
   "source": [
    "<b><i>Tuning Hyperparameters"
   ]
  },
  {
   "cell_type": "code",
   "execution_count": null,
   "metadata": {},
   "outputs": [],
   "source": [
    "model = LogisticRegression(penalty='l2', dual=False, tol=0.0001, C=1.0, \n",
    "                           fit_intercept=True, intercept_scaling=1, class_weight='balanced', \n",
    "                           random_state=1, solver='saga', max_iter=500, multi_class='multinomial', \n",
    "                           verbose=1, warm_start=False, n_jobs=None)"
   ]
  },
  {
   "cell_type": "code",
   "execution_count": null,
   "metadata": {},
   "outputs": [],
   "source": [
    "model.fit(X_train,y_train)"
   ]
  },
  {
   "cell_type": "code",
   "execution_count": null,
   "metadata": {},
   "outputs": [],
   "source": [
    "y_pred2 = model.predict(X_val)\n",
    "print('Accuracy of logistic regression classifier on test set: {:.2f}'.format(model.score(X_val, y_val)))"
   ]
  },
  {
   "cell_type": "code",
   "execution_count": null,
   "metadata": {},
   "outputs": [],
   "source": [
    "y_pred_test2 = model.predict(Test)"
   ]
  },
  {
   "cell_type": "code",
   "execution_count": null,
   "metadata": {},
   "outputs": [],
   "source": [
    "SubDict = OrderedDict()\n",
    "SubDict['serial_number'] = y_test_Sn\n",
    "SubDict['outcome'] = y_pred_test2"
   ]
  },
  {
   "cell_type": "code",
   "execution_count": null,
   "metadata": {},
   "outputs": [],
   "source": [
    "test_submit2 = pd.DataFrame(SubDict)"
   ]
  },
  {
   "cell_type": "code",
   "execution_count": null,
   "metadata": {},
   "outputs": [],
   "source": [
    "test_submit2['outcome'].value_counts()"
   ]
  },
  {
   "cell_type": "code",
   "execution_count": null,
   "metadata": {},
   "outputs": [],
   "source": [
    "def deprocess_label(text):\n",
    "    if text == 1:\n",
    "        return 'yes'\n",
    "    else:\n",
    "        return 'no'"
   ]
  },
  {
   "cell_type": "code",
   "execution_count": null,
   "metadata": {},
   "outputs": [],
   "source": [
    "test_submit2['outcome'] = test_submit2['outcome'].apply(lambda x : deprocess_label(x))"
   ]
  },
  {
   "cell_type": "code",
   "execution_count": null,
   "metadata": {},
   "outputs": [],
   "source": [
    "test_submit2.to_csv('Test_submit.csv',encoding='utf-8',index=False)"
   ]
  }
 ],
 "metadata": {
  "kernelspec": {
   "display_name": "TensorFlow-GPU",
   "language": "python",
   "name": "tensorflow-gpu"
  },
  "language_info": {
   "codemirror_mode": {
    "name": "ipython",
    "version": 3
   },
   "file_extension": ".py",
   "mimetype": "text/x-python",
   "name": "python",
   "nbconvert_exporter": "python",
   "pygments_lexer": "ipython3",
   "version": "3.5.6"
  }
 },
 "nbformat": 4,
 "nbformat_minor": 2
}
